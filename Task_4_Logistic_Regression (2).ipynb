{
  "nbformat": 4,
  "nbformat_minor": 0,
  "metadata": {
    "colab": {
      "provenance": []
    },
    "kernelspec": {
      "name": "python3",
      "display_name": "Python 3"
    },
    "language_info": {
      "name": "python"
    }
  },
  "cells": [
    {
      "cell_type": "code",
      "execution_count": null,
      "metadata": {
        "id": "X9b_kWGMtgYf"
      },
      "outputs": [],
      "source": [
        "import pandas as pd\n",
        "import numpy as np\n",
        "import matplotlib.pyplot as plt\n",
        "from sklearn.model_selection import train_test_split\n",
        "from sklearn.preprocessing import StandardScaler\n",
        "from sklearn.linear_model import LogisticRegression\n",
        "from sklearn.metrics import confusion_matrix, precision_score, recall_score, roc_auc_score, roc_curve\n",
        "import seaborn as sns\n"
      ]
    },
    {
      "cell_type": "code",
      "source": [
        "# Load the CSV file\n",
        "df = pd.read_csv('/content/data.csv')  # adjust path if different\n",
        "\n",
        "# Drop unnecessary columns\n",
        "df.drop(columns=['id', 'Unnamed: 32'], inplace=True, errors='ignore')\n",
        "\n",
        "# Convert 'diagnosis' to binary (Malignant=1, Benign=0)\n",
        "df['diagnosis'] = df['diagnosis'].map({'M': 1, 'B': 0})\n",
        "\n",
        "# Rename column to 'target' for clarity\n",
        "df.rename(columns={'diagnosis': 'target'}, inplace=True)\n",
        "\n",
        "# View first 5 rows\n",
        "df.head()\n"
      ],
      "metadata": {
        "id": "zEA0Jslqtpx5"
      },
      "execution_count": null,
      "outputs": []
    },
    {
      "cell_type": "code",
      "source": [
        "# Separate features and target\n",
        "X = df.drop('target', axis=1)\n",
        "y = df['target']\n",
        "\n",
        "# Split the dataset\n",
        "X_train, X_test, y_train, y_test = train_test_split(X, y, test_size=0.2, random_state=42)\n",
        "\n",
        "# Standardize the features\n",
        "scaler = StandardScaler()\n",
        "X_train = scaler.fit_transform(X_train)\n",
        "X_test = scaler.transform(X_test)\n"
      ],
      "metadata": {
        "id": "fAElslUUwOcA"
      },
      "execution_count": null,
      "outputs": []
    },
    {
      "cell_type": "code",
      "source": [
        "model = LogisticRegression()\n",
        "model.fit(X_train, y_train)\n"
      ],
      "metadata": {
        "id": "2e5x9a6ywQpX"
      },
      "execution_count": null,
      "outputs": []
    },
    {
      "cell_type": "code",
      "source": [
        "y_pred = model.predict(X_test)\n",
        "y_prob = model.predict_proba(X_test)[:, 1]\n",
        "\n",
        "# Confusion Matrix\n",
        "cm = confusion_matrix(y_test, y_pred)\n",
        "sns.heatmap(cm, annot=True, fmt='d', cmap='Blues')\n",
        "plt.title(\"Confusion Matrix\")\n",
        "plt.xlabel(\"Predicted\")\n",
        "plt.ylabel(\"Actual\")\n",
        "plt.show()\n",
        "\n",
        "# Precision, Recall, ROC-AUC\n",
        "print(\"Precision:\", precision_score(y_test, y_pred))\n",
        "print(\"Recall:\", recall_score(y_test, y_pred))\n",
        "print(\"ROC-AUC Score:\", roc_auc_score(y_test, y_prob))\n"
      ],
      "metadata": {
        "id": "i-b5pjSQwUeA"
      },
      "execution_count": null,
      "outputs": []
    },
    {
      "cell_type": "code",
      "source": [
        "fpr, tpr, thresholds = roc_curve(y_test, y_prob)\n",
        "\n",
        "plt.plot(fpr, tpr, label='ROC Curve')\n",
        "plt.plot([0, 1], [0, 1], 'k--')\n",
        "plt.xlabel('False Positive Rate')\n",
        "plt.ylabel('True Positive Rate')\n",
        "plt.title('ROC Curve')\n",
        "plt.legend()\n",
        "plt.show()\n"
      ],
      "metadata": {
        "id": "aRbYsB08wfRY"
      },
      "execution_count": null,
      "outputs": []
    },
    {
      "cell_type": "code",
      "source": [
        "y_pred_thresh = (y_prob >= 0.6).astype(int)\n",
        "\n",
        "print(\"Custom Precision (0.6):\", precision_score(y_test, y_pred_thresh))\n",
        "print(\"Custom Recall (0.6):\", recall_score(y_test, y_pred_thresh))\n"
      ],
      "metadata": {
        "id": "QKL7qvSvw5kf"
      },
      "execution_count": null,
      "outputs": []
    },
    {
      "cell_type": "markdown",
      "source": [
        "##  Sigmoid Function Explained\n",
        "\n",
        "The sigmoid function maps values to the (0, 1) range, making it ideal for probabilities in binary classification.\n",
        "\n",
        "### Formula:\n",
        "sigmoid(x) = 1 / (1 + e^(-x))\n",
        "\n",
        "In logistic regression, its used to turn linear outputs into probability scores for classification.\n"
      ],
      "metadata": {
        "id": "C_b_kWrzw_kf"
      }
    },
    {
      "cell_type": "code",
      "source": [],
      "metadata": {
        "id": "sbvrASdGyqTu"
      },
      "execution_count": null,
      "outputs": []
    }
  ]
}